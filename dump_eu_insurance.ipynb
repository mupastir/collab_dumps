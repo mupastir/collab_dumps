{
  "nbformat": 4,
  "nbformat_minor": 0,
  "metadata": {
    "colab": {
      "name": "dump-eu-insurance.ipynb",
      "provenance": [],
      "collapsed_sections": [],
      "authorship_tag": "ABX9TyMIB9QB5TJ9aQ1L2lqcmHdt",
      "include_colab_link": true
    },
    "kernelspec": {
      "name": "python3",
      "display_name": "Python 3"
    }
  },
  "cells": [
    {
      "cell_type": "markdown",
      "metadata": {
        "id": "view-in-github",
        "colab_type": "text"
      },
      "source": [
        "<a href=\"https://colab.research.google.com/github/mupastir/collab_dumps/blob/master/dump_eu_insurance.ipynb\" target=\"_parent\"><img src=\"https://colab.research.google.com/assets/colab-badge.svg\" alt=\"Open In Colab\"/></a>"
      ]
    },
    {
      "cell_type": "code",
      "metadata": {
        "id": "RWcSN_Ey3m4J",
        "colab_type": "code",
        "colab": {}
      },
      "source": [
        "import json\n",
        "import copy\n",
        "import pytz"
      ],
      "execution_count": null,
      "outputs": []
    },
    {
      "cell_type": "code",
      "metadata": {
        "id": "ypKdoLf8kKj1",
        "colab_type": "code",
        "colab": {}
      },
      "source": [
        "documents_CORPORATE_INFORMATION = \"\"\"Company Overview Presentation\n",
        "Corporate Structure Chart\n",
        "Organization Chart\n",
        "Financial Statements / Management Accounts\n",
        "Regulatory Returns\n",
        "List of Ultimate Beneficial Owners\n",
        "List of Company Directors\n",
        "Trading Licenses\n",
        "Memberships and Accreditations\n",
        "Solvency & Financial Condition Reports\n",
        "Ratings Agency Reports\n",
        "PI / E&O / Financial Crime Policy\n",
        "Cyber Policy\"\"\""
      ],
      "execution_count": null,
      "outputs": []
    },
    {
      "cell_type": "code",
      "metadata": {
        "id": "e-phUFoftLLS",
        "colab_type": "code",
        "colab": {}
      },
      "source": [
        "documents_HISTORIC_PERFORMANCE = \"\"\"Summary Underwriting Results\n",
        "Program P&L\n",
        "Risk Profiles\n",
        "Premium and Exposure Analysis\n",
        "Triangles / Earned-to-Incurreds\n",
        "Actuarial Reports\n",
        "Realistic Disaster Scenario Analysis\n",
        "Claims Statistics / Analysis\n",
        "Bordereaux\n",
        "Operational KPIs / Metrics\n",
        "Reinsurance / Retrocession Program\n",
        "Program Audit Reports\"\"\""
      ],
      "execution_count": null,
      "outputs": []
    },
    {
      "cell_type": "code",
      "metadata": {
        "id": "BwFn2V1QvH-b",
        "colab_type": "code",
        "colab": {}
      },
      "source": [
        "documents_BUSINESS_AND_FINANCIAL_PLANS =\"\"\"Business Plan / Renewal Pack\n",
        "Market Analysis\n",
        "Competitor, Customer and Pricing Research\n",
        "Marketing and Distribution Plan\n",
        "Product Brochures\n",
        "Underwriting Strategy / Approach\n",
        "Program Operating Model\n",
        "CVs - Key Staff\n",
        "IT Systems and Suppliers\n",
        "Financial Projections and KPIs\n",
        "Program Structure\"\"\""
      ],
      "execution_count": null,
      "outputs": []
    },
    {
      "cell_type": "code",
      "metadata": {
        "id": "VAektMqTfW-9",
        "colab_type": "code",
        "colab": {}
      },
      "source": [
        "documents_UNDERWRITING_CLAIMS_AND_OPERATIONS =\"\"\"Business Plan / Renewal Pack\n",
        "Market Analysis\n",
        "Competitor, Customer and Pricing Research\n",
        "Marketing and Distribution Plan\n",
        "Product Brochures\n",
        "Underwriting Strategy / Approach\n",
        "Program Operating Model\n",
        "CVs - Key Staff\n",
        "IT Systems and Suppliers\n",
        "Financial Projections and KPIs\n",
        "Program Structure\"\"\""
      ],
      "execution_count": null,
      "outputs": []
    },
    {
      "cell_type": "code",
      "metadata": {
        "id": "zlavup2Dg6cG",
        "colab_type": "code",
        "colab": {}
      },
      "source": [
        "documents_AGREEMENTS =\"\"\"Expiring Binder / Slip Agreement(s)\n",
        "Proposed Binder / Slip Agreement(s)\n",
        "Expiring Reinsurance Agreement(s)\n",
        "Proposed Reinsurance Agreement(s)\n",
        "Claims Handling / TPA Agreement(s)\n",
        "Surveyor Agreement(s)\n",
        "Systems Provider Agreements(s)\n",
        "Distribution Agreement(s)\n",
        "Terms of Business Agreement(s)\n",
        "Appointed Representive Agreement(s)\n",
        "Other Agreement(s)\"\"\""
      ],
      "execution_count": null,
      "outputs": []
    },
    {
      "cell_type": "code",
      "metadata": {
        "id": "PrRDnlXnf_S5",
        "colab_type": "code",
        "colab": {}
      },
      "source": [
        "documents_COMPLIANCE_AND_GOVERNANCE =\"\"\"Company Risk Register\n",
        "Product Conduct Risk Approvals\n",
        "IDD / iPID Documentation\n",
        "Broker Security Committee Approvals\n",
        "Complaints Log\n",
        "Training Log\n",
        "Gifts and Hospitality Log\n",
        "Conflict of Interest Log\n",
        "Breaches, Near Misses and Conduct Log\n",
        "Approved Broker / Producer Log\n",
        "Appointed Representative Log\n",
        "FATCA Registration\"\"\""
      ],
      "execution_count": null,
      "outputs": []
    },
    {
      "cell_type": "code",
      "metadata": {
        "id": "ZMPfmCbdgXNi",
        "colab_type": "code",
        "colab": {}
      },
      "source": [
        "documents_POLICIES_AND_PROCEDURES =\"\"\"Anti-Bribery and Corruption\n",
        "Anti-Money Laundering\n",
        "Sanctions Checking\n",
        "Business Continuity / Disaster Recovery\n",
        "Data Privacy and GDPR Compliance\n",
        "IT Security\n",
        "Conflict of Interest\n",
        "Complaints Handling\n",
        "Conduct Risk\n",
        "Treating Customers Fairly\n",
        "Modern Slavery\n",
        "Succession Plan\n",
        "Whistleblowing\"\"\""
      ],
      "execution_count": null,
      "outputs": []
    },
    {
      "cell_type": "code",
      "metadata": {
        "id": "TY5uugWSttVY",
        "colab_type": "code",
        "colab": {}
      },
      "source": [
        "documents_dict = {'HISTORIC PERFORMANCE': [i.replace('\\t', '') for i in documents_HISTORIC_PERFORMANCE.split('\\n')]}"
      ],
      "execution_count": null,
      "outputs": []
    },
    {
      "cell_type": "code",
      "metadata": {
        "id": "HB84f-wOkYAZ",
        "colab_type": "code",
        "colab": {}
      },
      "source": [
        "documents_dict.update({'CORPORATE INFORMATION': [i.replace('\\t', '') for i in documents_CORPORATE_INFORMATION.split('\\n')]})"
      ],
      "execution_count": null,
      "outputs": []
    },
    {
      "cell_type": "code",
      "metadata": {
        "id": "bKl9UFX6veC7",
        "colab_type": "code",
        "colab": {}
      },
      "source": [
        "documents_dict.update({'BUSINESS AND FINANCIAL PLANS': [i.replace('\\t', '') for i in documents_BUSINESS_AND_FINANCIAL_PLANS.split('\\n')]})"
      ],
      "execution_count": null,
      "outputs": []
    },
    {
      "cell_type": "code",
      "metadata": {
        "id": "3ylCuy7jfuxU",
        "colab_type": "code",
        "colab": {}
      },
      "source": [
        "documents_dict.update({'UNDERWRITING, CLAIMS AND OPERATIONS': [i.replace('\\t', '') for i in documents_UNDERWRITING_CLAIMS_AND_OPERATIONS.split('\\n')]})"
      ],
      "execution_count": null,
      "outputs": []
    },
    {
      "cell_type": "code",
      "metadata": {
        "id": "IC5E8pF4gyzE",
        "colab_type": "code",
        "colab": {}
      },
      "source": [
        "documents_dict.update({'AGREEMENTS': [i.replace('\\t', '') for i in documents_AGREEMENTS.split('\\n')]})"
      ],
      "execution_count": null,
      "outputs": []
    },
    {
      "cell_type": "code",
      "metadata": {
        "id": "mX2Ph3XUgSz7",
        "colab_type": "code",
        "colab": {}
      },
      "source": [
        "documents_dict.update({'COMPLIANCE AND GOVERNANCE': [i.replace('\\t', '') for i in documents_COMPLIANCE_AND_GOVERNANCE.split('\\n')]})"
      ],
      "execution_count": null,
      "outputs": []
    },
    {
      "cell_type": "code",
      "metadata": {
        "id": "0n2lcpEWgeYa",
        "colab_type": "code",
        "colab": {}
      },
      "source": [
        "documents_dict.update({'POLICIES AND PROCEDURES': [i.replace('\\t', '') for i in documents_POLICIES_AND_PROCEDURES.split('\\n')]})"
      ],
      "execution_count": null,
      "outputs": []
    },
    {
      "cell_type": "code",
      "metadata": {
        "id": "f4ppPDB7voO4",
        "colab_type": "code",
        "colab": {
          "base_uri": "https://localhost:8080/",
          "height": 1000
        },
        "outputId": "a35a1ca6-c6e3-4c8f-c407-f2e18c52e37d"
      },
      "source": [
        "documents_dict"
      ],
      "execution_count": null,
      "outputs": [
        {
          "output_type": "execute_result",
          "data": {
            "text/plain": [
              "{'AGREEMENTS': ['Expiring Binder / Slip Agreement(s)',\n",
              "  'Proposed Binder / Slip Agreement(s)',\n",
              "  'Expiring Reinsurance Agreement(s)',\n",
              "  'Proposed Reinsurance Agreement(s)',\n",
              "  'Claims Handling / TPA Agreement(s)',\n",
              "  'Surveyor Agreement(s)',\n",
              "  'Systems Provider Agreements(s)',\n",
              "  'Distribution Agreement(s)',\n",
              "  'Terms of Business Agreement(s)',\n",
              "  'Appointed Representive Agreement(s)',\n",
              "  'Other Agreement(s)'],\n",
              " 'BUSINESS AND FINANCIAL PLANS': ['Business Plan / Renewal Pack',\n",
              "  'Market Analysis',\n",
              "  'Competitor, Customer and Pricing Research',\n",
              "  'Marketing and Distribution Plan',\n",
              "  'Product Brochures',\n",
              "  'Underwriting Strategy / Approach',\n",
              "  'Program Operating Model',\n",
              "  'CVs - Key Staff',\n",
              "  'IT Systems and Suppliers',\n",
              "  'Financial Projections and KPIs',\n",
              "  'Program Structure'],\n",
              " 'COMPLIANCE AND GOVERNANCE': ['Company Risk Register',\n",
              "  'Product Conduct Risk Approvals',\n",
              "  'IDD / iPID Documentation',\n",
              "  'Broker Security Committee Approvals',\n",
              "  'Complaints Log',\n",
              "  'Training Log',\n",
              "  'Gifts and Hospitality Log',\n",
              "  'Conflict of Interest Log',\n",
              "  'Breaches, Near Misses and Conduct Log',\n",
              "  'Approved Broker / Producer Log',\n",
              "  'Appointed Representative Log',\n",
              "  'FATCA Registration'],\n",
              " 'CORPORATE INFORMATION': ['Company Overview Presentation',\n",
              "  'Corporate Structure Chart',\n",
              "  'Organization Chart',\n",
              "  'Financial Statements / Management Accounts',\n",
              "  'Regulatory Returns',\n",
              "  'List of Ultimate Beneficial Owners',\n",
              "  'List of Company Directors',\n",
              "  'Trading Licenses',\n",
              "  'Memberships and Accreditations',\n",
              "  'Solvency & Financial Condition Reports',\n",
              "  'Ratings Agency Reports',\n",
              "  'PI / E&O / Financial Crime Policy',\n",
              "  'Cyber Policy'],\n",
              " 'HISTORIC PERFORMANCE': ['Summary Underwriting Results',\n",
              "  'Program P&L',\n",
              "  'Risk Profiles',\n",
              "  'Premium and Exposure Analysis',\n",
              "  'Triangles / Earned-to-Incurreds',\n",
              "  'Actuarial Reports',\n",
              "  'Realistic Disaster Scenario Analysis',\n",
              "  'Claims Statistics / Analysis',\n",
              "  'Bordereaux',\n",
              "  'Operational KPIs / Metrics',\n",
              "  'Reinsurance / Retrocession Program',\n",
              "  'Program Audit Reports'],\n",
              " 'POLICIES AND PROCEDURES': ['Anti-Bribery and Corruption',\n",
              "  'Anti-Money Laundering',\n",
              "  'Sanctions Checking',\n",
              "  'Business Continuity / Disaster Recovery',\n",
              "  'Data Privacy and GDPR Compliance',\n",
              "  'IT Security',\n",
              "  'Conflict of Interest',\n",
              "  'Complaints Handling',\n",
              "  'Conduct Risk',\n",
              "  'Treating Customers Fairly',\n",
              "  'Modern Slavery',\n",
              "  'Succession Plan',\n",
              "  'Whistleblowing'],\n",
              " 'UNDERWRITING, CLAIMS AND OPERATIONS': ['Business Plan / Renewal Pack',\n",
              "  'Market Analysis',\n",
              "  'Competitor, Customer and Pricing Research',\n",
              "  'Marketing and Distribution Plan',\n",
              "  'Product Brochures',\n",
              "  'Underwriting Strategy / Approach',\n",
              "  'Program Operating Model',\n",
              "  'CVs - Key Staff',\n",
              "  'IT Systems and Suppliers',\n",
              "  'Financial Projections and KPIs',\n",
              "  'Program Structure']}"
            ]
          },
          "metadata": {
            "tags": []
          },
          "execution_count": 64
        }
      ]
    },
    {
      "cell_type": "code",
      "metadata": {
        "id": "A6Oc0IdYsqwr",
        "colab_type": "code",
        "colab": {}
      },
      "source": [
        "fixture_structure = {\n",
        "  \"model\": \"offers.offer\",\n",
        "  \"pk\": 22300,\n",
        "  \"fields\": {\n",
        "    \"created_at\": \"2020-04-27T16:12:41.132Z\",\n",
        "    \"updated_at\": \"2020-04-27T16:12:41.659Z\",\n",
        "    \"is_featured\": False,\n",
        "    \"is_hidden\": False,\n",
        "    \"meta_title\": \"\",\n",
        "    \"meta_description\": \"\",\n",
        "    \"meta_author\": \"\",\n",
        "    \"meta_keywords\": \"\",\n",
        "    \"meta_link_canonical\": \"\",\n",
        "    \"meta_og_locale\": \"\",\n",
        "    \"meta_og_type\": \"\",\n",
        "    \"meta_og_title\": \"\",\n",
        "    \"meta_og_description\": \"\",\n",
        "    \"meta_og_site_name\": \"\",\n",
        "    \"meta_og_website_tags\": \"\",\n",
        "    \"meta_og_image\": \"\",\n",
        "    \"meta_og_image_secure_url\": \"\",\n",
        "    \"meta_og_image_width\": \"\",\n",
        "    \"meta_og_image_height\": \"\",\n",
        "    \"meta_twitter_card\": \"\",\n",
        "    \"meta_twitter_description\": \"\",\n",
        "    \"meta_twitter_title\": \"\",\n",
        "    \"meta_twitter_image\": \"\",\n",
        "    \"offer_definition_uid\": 18,\n",
        "    \"slug\": None,\n",
        "    \"data\": {\n",
        "      \"name\": \"\",\n",
        "    },\n",
        "    \"profile\": None,\n",
        "    \"parent\": None,\n",
        "    \"lft\": 1,\n",
        "    \"rght\": 2,\n",
        "    \"tree_id\": 6,\n",
        "    \"level\": 0\n",
        "  }\n",
        "}"
      ],
      "execution_count": null,
      "outputs": []
    },
    {
      "cell_type": "code",
      "metadata": {
        "id": "ctBeAKey5z-5",
        "colab_type": "code",
        "colab": {}
      },
      "source": [
        "fixture_list = []\n",
        "for key, values_list in documents_dict.items(): \n",
        "    new_item = copy.deepcopy(fixture_structure)\n",
        "    new_item[\"pk\"] = new_item[\"pk\"] + 1\n",
        "    new_item[\"fields\"][\"data\"][\"name\"] = key\n",
        "    new_item[\"fields\"][\"parent\"] = None\n",
        "    fixture_structure = copy.deepcopy(new_item)\n",
        "    fixture_list.append(new_item)\n",
        "    parent_pk = new_item[\"pk\"]\n",
        "    for value in values_list:\n",
        "      new_item = copy.deepcopy(fixture_structure)\n",
        "      new_item[\"pk\"] = new_item[\"pk\"] + 1\n",
        "      new_item[\"fields\"][\"parent\"] = parent_pk\n",
        "      new_item[\"fields\"][\"data\"][\"name\"] = value\n",
        "      fixture_structure = copy.deepcopy(new_item)\n",
        "      fixture_list.append(new_item)\n",
        "    \n",
        "\n",
        "with open('offers-documents.json', 'w+') as openfile:\n",
        "    openfile.write(json.dumps(fixture_list, indent=1, sort_keys=True))"
      ],
      "execution_count": null,
      "outputs": []
    }
  ]
}